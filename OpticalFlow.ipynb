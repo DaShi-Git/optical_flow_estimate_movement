{
 "cells": [
  {
   "cell_type": "markdown",
   "source": [
    "Tutorial 4: 3D motion estimation\n",
    "Script for Optical Flow\n",
    "Practical Course: Learning For Self-Driving Cars and Intelligent Systems\n",
    "Summer Semester 2021\n",
    "Technical University of Munich\n",
    "Tutor: Qadeer Khan\n",
    "https://vision.in.tum.de/teaching/ss2021/intellisys_ss2021"
   ],
   "metadata": {}
  },
  {
   "cell_type": "code",
   "execution_count": 1,
   "source": [
    "import numpy as np\n",
    "import matplotlib.pyplot as plt\n",
    "from skimage import io\n",
    "import os\n",
    "import copy\n",
    "import glob\n",
    "import cv2\n",
    "FOLDER = \"/home/shida/pointCouldSegmentation/data/episode_000/\""
   ],
   "outputs": [],
   "metadata": {}
  },
  {
   "cell_type": "code",
   "execution_count": 3,
   "source": [
    "def read_rgb(rgb_file):\n",
    "    rgb = io.imread(rgb_file)\n",
    "    return rgb\n",
    "\n",
    "def read_depth(depth_file):\n",
    "    depth = io.imread(depth_file)\n",
    "#     Reference: https://carla.readthedocs.io/en/stable/cameras_and_sensors/#camera-depth-map\n",
    "    depth = depth[:, :, 0] * 1.0 + depth[:, :, 1] * 256.0 + depth[:, :, 2] * (256.0 * 256)\n",
    "    depth = depth * (1/ (256 * 256 * 256 - 1))\n",
    "    return depth"
   ],
   "outputs": [],
   "metadata": {}
  },
  {
   "cell_type": "code",
   "execution_count": 27,
   "source": [
    "#print(cv2.getBuildInformation())\n",
    "import pandas as pd\n",
    "drivedata = pd.read_csv('/home/shida/optical_flow_estimation/3dmotion/driving_data.csv')\n",
    "test = drivedata.iloc[6]\n",
    "\n",
    "print(test)\n",
    "#print('/home/shida/optical_flow_estimation/3dmotion/CameraRGB0/image_00012.png'[0:65])"
   ],
   "outputs": [
    {
     "output_type": "stream",
     "name": "stdout",
     "text": [
      "Unnamed: 0                          0\n",
      "name                      image_00006\n",
      "speed                        0.000002\n",
      "throttle                          0.0\n",
      "steer                        0.000003\n",
      "pos_x                      119.470047\n",
      "pos_y                      129.750336\n",
      "pos_z                       38.109547\n",
      "brake                             0.0\n",
      "reverse                         False\n",
      "hand_brake                      False\n",
      "collision_vehicles                0.0\n",
      "collision_pedestrians             0.0\n",
      "collision_other                   0.0\n",
      "intersection_offroad              0.0\n",
      "intersection_otherlane            0.0\n",
      "Name: 6, dtype: object\n"
     ]
    }
   ],
   "metadata": {}
  },
  {
   "cell_type": "markdown",
   "source": [
    "Dense Optical Flow: Gunner Farneback’s algorithm\n",
    "Reference: https://opencv-python-tutroals.readthedocs.io/en/latest/py_tutorials/py_video/py_lucas_kanade/py_lucas_kanade.html#dense-optical-flow-in-opencv"
   ],
   "metadata": {}
  },
  {
   "cell_type": "code",
   "execution_count": 28,
   "source": [
    "cam_folder = os.path.join(FOLDER, \"CameraRGB0\")\n",
    "all_images = sorted(glob.glob(cam_folder + '/**/*.png', recursive=True))\n",
    "num_images = len(all_images)\n",
    "first = all_images[0]\n",
    "second = all_images[1]\n",
    "prvs = read_rgb(all_images[0])\n",
    "hsv = np.zeros_like(prvs)\n",
    "hsv[...,1] = 255\n",
    "prvs = cv2.cvtColor(prvs,cv2.COLOR_BGR2GRAY)\n",
    "\n",
    "for i in range(1):\n",
    "    frame2 = read_rgb(all_images[1])\n",
    "    next = cv2.cvtColor(frame2,cv2.COLOR_BGR2GRAY)\n",
    "\n",
    "    flow = cv2.calcOpticalFlowFarneback(prvs,next, None,pyr_scale=0.5, levels=3, winsize=15,\n",
    "                                      iterations=10, poly_n=5, poly_sigma=1.2,\n",
    "                                      flags=0)\n",
    "                                        \n",
    "                                        \n",
    "    mag, ang = cv2.cartToPolar(flow[...,0], flow[...,1])\n",
    "    hsv[...,0] = ang*180/np.pi/2\n",
    "    hsv[...,2] = cv2.normalize(mag,None,0,255,cv2.NORM_MINMAX)\n",
    "    rgb = cv2.cvtColor(hsv,cv2.COLOR_HSV2BGR)\n",
    "\n",
    "    #cv2.imshow('frame2',np.concatenate((frame2[...,::-1], rgb), axis=1))\n",
    "    k = cv2.waitKey(30) & 0xff\n",
    "    # if k == 27:\n",
    "    #     break\n",
    "    # elif k == ord('s'):\n",
    "    cv2.imwrite('opticalfb.png',frame2)\n",
    "    cv2.imwrite('opticalhsv.png',rgb)\n",
    "    prvs = next\n",
    "\n",
    "cv2.destroyAllWindows()"
   ],
   "outputs": [],
   "metadata": {}
  },
  {
   "cell_type": "markdown",
   "source": [
    "Lucas-Kanade Method\n",
    "Reference: https://opencv-python-tutroals.readthedocs.io/en/latest/py_tutorials/py_video/py_lucas_kanade/py_lucas_kanade.html#lucas-kanade-optical-flow-in-opencv\n",
    "        "
   ],
   "metadata": {}
  },
  {
   "cell_type": "code",
   "execution_count": 4,
   "source": [
    "cam_folder = os.path.join(FOLDER, \"CameraRGB0\")\n",
    "all_images = sorted(glob.glob(cam_folder + '/**/*.png', recursive=True))\n",
    "num_images = len(all_images)\n",
    "prvs = read_rgb(all_images[0])\n",
    "hsv = np.zeros_like(prvs)\n",
    "hsv[...,1] = 255\n",
    "\n",
    "\n",
    "# params for ShiTomasi corner detection\n",
    "feature_params = dict( maxCorners = 100,\n",
    "                       qualityLevel = 0.3,\n",
    "                       minDistance = 7,\n",
    "                       blockSize = 7 )\n",
    "\n",
    "# Parameters for lucas kanade optical flow\n",
    "lk_params = dict( winSize  = (15,15),\n",
    "                  maxLevel = 2,\n",
    "                  criteria = (cv2.TERM_CRITERIA_EPS | cv2.TERM_CRITERIA_COUNT, 10, 0.03))\n",
    "\n",
    "# Create some random colors\n",
    "color = np.random.randint(0,255,(100,3))\n",
    "\n",
    "old_gray = cv2.cvtColor(prvs, cv2.COLOR_BGR2GRAY)\n",
    "p0 = cv2.goodFeaturesToTrack(old_gray, mask = None, **feature_params)\n",
    "\n",
    "# Create a mask image for drawing purposes\n",
    "mask = np.zeros_like(prvs)\n",
    "\n",
    "for i in range(1,num_images):\n",
    "    frame = read_rgb(all_images[i])\n",
    "    frame_gray = cv2.cvtColor(frame, cv2.COLOR_BGR2GRAY)\n",
    "\n",
    "    # calculate optical flow\n",
    "    p1, st, err = cv2.calcOpticalFlowPyrLK(old_gray, frame_gray, p0, None, **lk_params)\n",
    "\n",
    "    # Select good points\n",
    "    good_new = p1[st==1]\n",
    "    good_old = p0[st==1]\n",
    "\n",
    "    # draw the tracks\n",
    "    for i,(new,old) in enumerate(zip(good_new,good_old)):\n",
    "        a,b = new.ravel()\n",
    "        c,d = old.ravel()\n",
    "        mask = cv2.line(mask, (a,b),(c,d), color[i].tolist(), 2)\n",
    "        frame = cv2.circle(frame,(a,b),5,color[i].tolist(),-1)\n",
    "    img = cv2.add(frame,mask)\n",
    "\n",
    "    cv2.imshow('frame',img[...,::-1])\n",
    "    k = cv2.waitKey(30) & 0xff\n",
    "    if k == 27:\n",
    "        break\n",
    "\n",
    "    # Now update the previous frame and previous points\n",
    "    old_gray = frame_gray.copy()\n",
    "    p0 = good_new.reshape(-1,1,2)\n",
    "\n",
    "cv2.destroyAllWindows()\n"
   ],
   "outputs": [
    {
     "output_type": "stream",
     "name": "stderr",
     "text": [
      "<ipython-input-4-5e2f6117a4fb>:44: DeprecationWarning: an integer is required (got type numpy.float32).  Implicit conversion to integers using __int__ is deprecated, and may be removed in a future version of Python.\n",
      "  mask = cv2.line(mask, (a,b),(c,d), color[i].tolist(), 2)\n",
      "<ipython-input-4-5e2f6117a4fb>:45: DeprecationWarning: an integer is required (got type numpy.float32).  Implicit conversion to integers using __int__ is deprecated, and may be removed in a future version of Python.\n",
      "  frame = cv2.circle(frame,(a,b),5,color[i].tolist(),-1)\n"
     ]
    }
   ],
   "metadata": {}
  },
  {
   "cell_type": "code",
   "execution_count": null,
   "source": [],
   "outputs": [],
   "metadata": {}
  }
 ],
 "metadata": {
  "kernelspec": {
   "name": "python3",
   "display_name": "Python 3.7.11 64-bit ('pprakt': conda)"
  },
  "language_info": {
   "codemirror_mode": {
    "name": "ipython",
    "version": 3
   },
   "file_extension": ".py",
   "mimetype": "text/x-python",
   "name": "python",
   "nbconvert_exporter": "python",
   "pygments_lexer": "ipython3",
   "version": "3.7.11"
  },
  "interpreter": {
   "hash": "edb327138d2848beba215531cd90ddb99189b0203247ae13108ac74c251bd742"
  }
 },
 "nbformat": 4,
 "nbformat_minor": 4
}